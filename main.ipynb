{
 "cells": [
  {
   "cell_type": "markdown",
   "metadata": {},
   "source": [
    "# Bar Chart"
   ]
  },
  {
   "cell_type": "code",
   "execution_count": 17,
   "metadata": {},
   "outputs": [],
   "source": [
    "import pandas as pd\n",
    "import matplotlib.pyplot as plt\n",
    "\n",
    "def create_bar_chart(csv_path):\n",
    "    df = pd.read_csv(csv_path)\n",
    "\n",
    "    # Convert 0→No and 1→Yes\n",
    "    df['COUNT'] = df['COUNT'].apply(lambda x: 'Yes' if x == 1 else 'No')\n",
    "\n",
    "    # Pivot to get No/Yes counts per LABEL\n",
    "    grouped = df.groupby(['LABEL', 'COUNT']).size().unstack(fill_value=0)\n",
    "    for col in ['No','Yes']:\n",
    "        if col not in grouped.columns:\n",
    "            grouped[col] = 0\n",
    "    grouped = grouped[['No','Yes']]  # enforce No->Yes order\n",
    "\n",
    "    fig, ax = plt.subplots(figsize=(8, 4))\n",
    "\n",
    "    grouped.plot(\n",
    "        kind='barh',\n",
    "        stacked=True,\n",
    "        color=['red','blue'],  # No=red, Yes=blue\n",
    "        edgecolor='white',\n",
    "        ax=ax,\n",
    "        legend=False,\n",
    "        zorder=2\n",
    "    )\n",
    "\n",
    "    # Chart/figure title\n",
    "    fig.suptitle(\n",
    "        \"Yes/No Vote Counts by Label\",\n",
    "        fontsize=14,\n",
    "        fontweight='bold',\n",
    "        y=0.98\n",
    "    )\n",
    "\n",
    "    # Legend\n",
    "    handles, labels = ax.get_legend_handles_labels()\n",
    "    fig.legend(\n",
    "        handles, labels,\n",
    "        title='Option',\n",
    "        loc='upper center',\n",
    "        bbox_to_anchor=(0.5, 0.90),\n",
    "        ncol=2,\n",
    "        frameon=True\n",
    "    )\n",
    "\n",
    "    fig.subplots_adjust(top=0.75)\n",
    "\n",
    "    # Axis labels & grid\n",
    "    ax.set_xlabel(\"COUNT\", fontsize=12, fontweight='bold')\n",
    "    ax.set_ylabel(\"LABEL\", fontsize=12, fontweight='bold')\n",
    "\n",
    "    ax.set_axisbelow(True)\n",
    "    ax.grid(axis='x', color='lightgray', linewidth=1, zorder=0)\n",
    "\n",
    "    # Skip 0 values\n",
    "    for container in ax.containers:\n",
    "        # Build a list of custom labels (empty string if value=0)\n",
    "        labels = [f'{v:.0f}' if v != 0 else '' for v in container.datavalues]\n",
    "        ax.bar_label(container, labels=labels, label_type='center', color='white')\n",
    "\n",
    "    plt.savefig(\"bar_chart.png\", dpi=300)\n",
    "    plt.close()\n",
    "\n",
    "if __name__ == \"__main__\":\n",
    "    create_bar_chart(\"data/bar_assignment.csv\")\n"
   ]
  }
 ],
 "metadata": {
  "kernelspec": {
   "display_name": "Python 3",
   "language": "python",
   "name": "python3"
  },
  "language_info": {
   "codemirror_mode": {
    "name": "ipython",
    "version": 3
   },
   "file_extension": ".py",
   "mimetype": "text/x-python",
   "name": "python",
   "nbconvert_exporter": "python",
   "pygments_lexer": "ipython3",
   "version": "3.11.0"
  }
 },
 "nbformat": 4,
 "nbformat_minor": 2
}
